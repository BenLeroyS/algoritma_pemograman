{
 "cells": [
  {
   "cell_type": "markdown",
   "metadata": {},
   "source": [
    "# Logika Dasar dalam Python\n",
    "\n",
    "*Algoritma dan Pemrograman*"
   ]
  },
  {
   "cell_type": "code",
   "execution_count": 1,
   "metadata": {},
   "outputs": [
    {
     "name": "stdout",
     "output_type": "stream",
     "text": [
      "Hello, Python World\n"
     ]
    }
   ],
   "source": [
    "# Eksekusi Sintaks Python\n",
    "\n",
    "print(\"Hello, Python World\")"
   ]
  },
  {
   "cell_type": "code",
   "execution_count": 6,
   "metadata": {},
   "outputs": [
    {
     "name": "stdout",
     "output_type": "stream",
     "text": [
      "Lima lebih dari dua\n"
     ]
    }
   ],
   "source": [
    "# Indesasi\n",
    "\n",
    "if 5 > 2:\n",
    "    print(\"Lima lebih dari dua\")"
   ]
  },
  {
   "cell_type": "code",
   "execution_count": 7,
   "metadata": {},
   "outputs": [
    {
     "name": "stdout",
     "output_type": "stream",
     "text": [
      "Lima lebih dari dua\n",
      "Lima lebih dari dua\n"
     ]
    }
   ],
   "source": [
    "if 5 > 2:\n",
    "    print(\"Lima lebih dari dua\")\n",
    "if 5 > 2:\n",
    "     print(\"Lima lebih dari dua\")"
   ]
  },
  {
   "cell_type": "code",
   "execution_count": 16,
   "metadata": {},
   "outputs": [
    {
     "data": {
      "text/plain": [
       "4"
      ]
     },
     "execution_count": 16,
     "metadata": {},
     "output_type": "execute_result"
    }
   ],
   "source": [
    "# Variabel\n",
    "\n",
    "x = 4\n",
    "y = \"My name is Benhard\"\n",
    "\n",
    "x"
   ]
  },
  {
   "cell_type": "code",
   "execution_count": 17,
   "metadata": {},
   "outputs": [
    {
     "name": "stdout",
     "output_type": "stream",
     "text": [
      "4\n",
      "My name is Benhard\n"
     ]
    }
   ],
   "source": [
    "print(x)\n",
    "print(y)"
   ]
  },
  {
   "cell_type": "code",
   "execution_count": null,
   "metadata": {},
   "outputs": [],
   "source": [
    "# Comments\n",
    "print(\"Hello, World\") # Ini adalah Comment"
   ]
  },
  {
   "cell_type": "code",
   "execution_count": 18,
   "metadata": {},
   "outputs": [
    {
     "name": "stdout",
     "output_type": "stream",
     "text": [
      "My name is Benhard\n"
     ]
    }
   ],
   "source": [
    "#Ini adalah\n",
    "#Mata Kuliah\n",
    "#Algoritma Pemrograman\n",
    "print(y)"
   ]
  },
  {
   "cell_type": "code",
   "execution_count": 19,
   "metadata": {},
   "outputs": [
    {
     "name": "stdout",
     "output_type": "stream",
     "text": [
      "My name is Benhard\n"
     ]
    }
   ],
   "source": [
    "\"\"\"\"\n",
    "Pembelajaran ini adalah Algoritma Pemrograman dan di Hari Senin, kita belajar komen\n",
    "\"\"\"\n",
    "print(y)"
   ]
  },
  {
   "cell_type": "code",
   "execution_count": 20,
   "metadata": {},
   "outputs": [
    {
     "name": "stdout",
     "output_type": "stream",
     "text": [
      "7 Sally 3.1\n"
     ]
    }
   ],
   "source": [
    "# Variable\n",
    "x = 7            #x merupakan tipe integer\n",
    "y = \"Sally\"      #y merupakan tipe string\n",
    "z = 3.1          #z merupakan tipe float\n",
    "\n",
    "print(x,y,z)"
   ]
  },
  {
   "cell_type": "code",
   "execution_count": 22,
   "metadata": {},
   "outputs": [
    {
     "name": "stdout",
     "output_type": "stream",
     "text": [
      "3 3 3.0\n"
     ]
    }
   ],
   "source": [
    "# Casting\n",
    "\n",
    "x = str(3)\n",
    "y = int(3)\n",
    "z = float(3)\n",
    "print(x,y,z)"
   ]
  },
  {
   "cell_type": "code",
   "execution_count": 23,
   "metadata": {},
   "outputs": [
    {
     "name": "stdout",
     "output_type": "stream",
     "text": [
      "33\n"
     ]
    }
   ],
   "source": [
    "print(x+x)"
   ]
  },
  {
   "cell_type": "code",
   "execution_count": 24,
   "metadata": {},
   "outputs": [
    {
     "name": "stdout",
     "output_type": "stream",
     "text": [
      "6\n"
     ]
    }
   ],
   "source": [
    "print(y+y)"
   ]
  },
  {
   "cell_type": "code",
   "execution_count": 25,
   "metadata": {},
   "outputs": [
    {
     "name": "stdout",
     "output_type": "stream",
     "text": [
      "6.0\n"
     ]
    }
   ],
   "source": [
    "print(z+z)"
   ]
  },
  {
   "cell_type": "code",
   "execution_count": 26,
   "metadata": {},
   "outputs": [
    {
     "name": "stdout",
     "output_type": "stream",
     "text": [
      "<class 'str'>\n",
      "<class 'int'>\n",
      "<class 'float'>\n"
     ]
    }
   ],
   "source": [
    "# Melihat Tipe Data\n",
    "print(type(x))\n",
    "print(type(y))\n",
    "print(type(z))"
   ]
  },
  {
   "cell_type": "code",
   "execution_count": 27,
   "metadata": {},
   "outputs": [
    {
     "name": "stdout",
     "output_type": "stream",
     "text": [
      "15\n"
     ]
    }
   ],
   "source": [
    "Adam = 7\n",
    "ADAM = 8\n",
    "\n",
    "print(Adam + ADAM)"
   ]
  },
  {
   "cell_type": "code",
   "execution_count": null,
   "metadata": {},
   "outputs": [],
   "source": [
    "#Penggunaan String\n",
    "\n",
    "x = \"Adam\" #Petik dua sama dengan petik sati\n",
    "y = 'Adam'"
   ]
  },
  {
   "cell_type": "code",
   "execution_count": 29,
   "metadata": {},
   "outputs": [
    {
     "name": "stdout",
     "output_type": "stream",
     "text": [
      "Apple\n",
      "Banana\n",
      "Cherry\n"
     ]
    }
   ],
   "source": [
    "# Many values ke Multip;e Variables\n",
    "\n",
    "x,y,z = \"Apple\", \"Banana\", \"Cherry\"\n",
    "\n",
    "print(x)\n",
    "print(y)\n",
    "print(z)"
   ]
  },
  {
   "cell_type": "code",
   "execution_count": 31,
   "metadata": {},
   "outputs": [
    {
     "name": "stdout",
     "output_type": "stream",
     "text": [
      "Durian\n",
      "Durian\n",
      "Durian\n"
     ]
    }
   ],
   "source": [
    "#One Value ke Multiple Variabels\n",
    "x = y = z = \"Durian\"\n",
    "print(x)\n",
    "print(y)\n",
    "print(z)"
   ]
  },
  {
   "cell_type": "code",
   "execution_count": 32,
   "metadata": {},
   "outputs": [
    {
     "name": "stdout",
     "output_type": "stream",
     "text": [
      "apple\n",
      "banana\n",
      "cherry\n"
     ]
    }
   ],
   "source": [
    "#Unpacking Collection\n",
    "#Unpack list\n",
    "\n",
    "fruits = [\"apple\", \"banana\", \"cherry\"]\n",
    "x,y,z = fruits\n",
    "\n",
    "print(x)\n",
    "print(y)\n",
    "print(z)"
   ]
  },
  {
   "cell_type": "code",
   "execution_count": 33,
   "metadata": {},
   "outputs": [
    {
     "name": "stdout",
     "output_type": "stream",
     "text": [
      "AppleApple\n"
     ]
    }
   ],
   "source": [
    "#Output Variable\n",
    "x = \"Apple\"\n",
    "print(x+x)\n"
   ]
  },
  {
   "cell_type": "code",
   "execution_count": 37,
   "metadata": {},
   "outputs": [
    {
     "name": "stdout",
     "output_type": "stream",
     "text": [
      "9.0\n"
     ]
    }
   ],
   "source": [
    "x = \"Apple\"\n",
    "y = 5\n",
    "z = 4.0\n",
    "print(y+z)"
   ]
  },
  {
   "cell_type": "code",
   "execution_count": 39,
   "metadata": {},
   "outputs": [
    {
     "name": "stdout",
     "output_type": "stream",
     "text": [
      "Saya Suka Apel\n",
      "SayaSukaApel\n"
     ]
    }
   ],
   "source": [
    "x = \"Saya\"\n",
    "y = \"Suka\"\n",
    "z = \"Apel\"\n",
    "\n",
    "print(x,y,z)\n",
    "print(x+y+z)\n"
   ]
  },
  {
   "cell_type": "code",
   "execution_count": 50,
   "metadata": {},
   "outputs": [
    {
     "name": "stdout",
     "output_type": "stream",
     "text": [
      "Bahasa Indonesia SayaBagus\n"
     ]
    }
   ],
   "source": [
    "#Global Variable\n",
    "x = \"Bagus\"\n",
    " \n",
    "def myfunc():\n",
    "     print(\"Bahasa Indonesia Saya\" + x)\n",
    "\n",
    "myfunc()"
   ]
  },
  {
   "cell_type": "code",
   "execution_count": 49,
   "metadata": {},
   "outputs": [
    {
     "name": "stdout",
     "output_type": "stream",
     "text": [
      "Teman saya akan Nikah\n"
     ]
    }
   ],
   "source": [
    "x = \"Nikah\"\n",
    "\n",
    "def myfunc():\n",
    "    print(\"Teman saya akan\", x)\n",
    "\n",
    "myfunc()"
   ]
  },
  {
   "cell_type": "code",
   "execution_count": 51,
   "metadata": {},
   "outputs": [
    {
     "name": "stdout",
     "output_type": "stream",
     "text": [
      "Bahasa Indonesia SayaBagus\n",
      "Bahasa Inggris sayaBagus\n"
     ]
    }
   ],
   "source": [
    "x = \"Bagus\"\n",
    " \n",
    "def myfunc():\n",
    "     print(\"Bahasa Indonesia Saya\" + x)\n",
    "\n",
    "myfunc()\n",
    "\n",
    "print(\"Bahasa Inggris saya\" + x)"
   ]
  },
  {
   "cell_type": "code",
   "execution_count": 53,
   "metadata": {},
   "outputs": [
    {
     "name": "stdout",
     "output_type": "stream",
     "text": [
      "Kamu Keren Banget\n"
     ]
    }
   ],
   "source": [
    "#Global Keyboard\n",
    "def myfunc():\n",
    "    global x\n",
    "    x = \"Keren Banget\"\n",
    "\n",
    "myfunc()\n",
    "\n",
    "print(\"Kamu\", x)"
   ]
  },
  {
   "cell_type": "code",
   "execution_count": 55,
   "metadata": {},
   "outputs": [
    {
     "name": "stdout",
     "output_type": "stream",
     "text": [
      "Kamu Asik Banget\n"
     ]
    }
   ],
   "source": [
    "x = \"Keren\"\n",
    "\n",
    "def myfunc():\n",
    "    global x\n",
    "    x = \"Asik Banget\"\n",
    "myfunc()\n",
    "\n",
    "print(\"Kamu\", x)"
   ]
  },
  {
   "cell_type": "code",
   "execution_count": 58,
   "metadata": {},
   "outputs": [
    {
     "name": "stdout",
     "output_type": "stream",
     "text": [
      "5 <class 'int'>\n",
      "Hello <class 'str'>\n",
      "2.4 <class 'float'>\n",
      "1j <class 'complex'>\n"
     ]
    }
   ],
   "source": [
    "a = 5\n",
    "print(a, type(a))\n",
    "\n",
    "b = \"Hello\"\n",
    "print(b, type(b))\n",
    "\n",
    "c = 2.4\n",
    "print(c, type(c))\n",
    "\n",
    "d = 1j\n",
    "print(d, type(d))"
   ]
  },
  {
   "cell_type": "code",
   "execution_count": 59,
   "metadata": {},
   "outputs": [
    {
     "name": "stdout",
     "output_type": "stream",
     "text": [
      "['apple', 'banana', 'cherry'] <class 'list'>\n",
      "('apple', 'banana', 'cherry') <class 'tuple'>\n",
      "range(0, 6) <class 'range'>\n",
      "{'name': 'John', 'age': 21} <class 'dict'>\n"
     ]
    }
   ],
   "source": [
    "e = [\"apple\",\"banana\",\"cherry\"]\n",
    "print(e,type (e))\n",
    "\n",
    "f = (\"apple\",\"banana\",\"cherry\")\n",
    "print(f,type (f))\n",
    "\n",
    "g = range(6)\n",
    "print(g, type(g))\n",
    "\n",
    "h = {\"name\" : \"John\", \"age\": 21}\n",
    "print(h,type(h))\n"
   ]
  },
  {
   "cell_type": "code",
   "execution_count": 60,
   "metadata": {},
   "outputs": [
    {
     "name": "stdout",
     "output_type": "stream",
     "text": [
      "frozenset({'banana', 'cherry', 'apple'}) <class 'frozenset'>\n",
      "True <class 'bool'>\n",
      "b'Hello' <class 'bytes'>\n"
     ]
    }
   ],
   "source": [
    "i = frozenset({\"apple\",\"banana\",\"cherry\"})\n",
    "print(i, type(i))\n",
    "\n",
    "j = True\n",
    "print(j, type(j))\n",
    "\n",
    "k = b\"Hello\"\n",
    "print(k, type(k))"
   ]
  },
  {
   "cell_type": "code",
   "execution_count": 61,
   "metadata": {},
   "outputs": [
    {
     "name": "stdout",
     "output_type": "stream",
     "text": [
      "bytearray(b'\\x00\\x00\\x00\\x00\\x00') <class 'int'>\n",
      "<memory at 0x0000021A235493C0> <class 'memoryview'>\n",
      "<memory at 0x0000021A235493C0> <class 'memoryview'>\n"
     ]
    }
   ],
   "source": [
    "l = bytearray(5)\n",
    "print(l, type(1))\n",
    "\n",
    "n = memoryview(bytes(5))\n",
    "print(n, type(n))\n",
    "\n",
    "m = None\n",
    "print(n, type(n))"
   ]
  },
  {
   "cell_type": "code",
   "execution_count": 62,
   "metadata": {},
   "outputs": [
    {
     "name": "stdout",
     "output_type": "stream",
     "text": [
      "-1.0 2 (-1+0j)\n",
      "<class 'float'> <class 'int'> <class 'complex'>\n"
     ]
    }
   ],
   "source": [
    "# Konversi Tipe\n",
    "x = -1 # int\n",
    "y = 2.0 # float\n",
    "z = 1j # complex\n",
    "\n",
    "# Convert int to float\n",
    "a = float(x)\n",
    "\n",
    "# Convert float to int\n",
    "b = int(y)\n",
    "\n",
    "# Convert int to complex\n",
    "c = complex(x)\n",
    "\n",
    "print(a,b,c)\n",
    "print(type(a), type(b), type(c))\n"
   ]
  },
  {
   "cell_type": "code",
   "execution_count": 77,
   "metadata": {},
   "outputs": [
    {
     "name": "stdout",
     "output_type": "stream",
     "text": [
      "12\n"
     ]
    }
   ],
   "source": [
    "# Random Number\n",
    "import random\n",
    "\n",
    "print(random.randrange(1,15))"
   ]
  },
  {
   "cell_type": "code",
   "execution_count": 79,
   "metadata": {},
   "outputs": [
    {
     "name": "stdout",
     "output_type": "stream",
     "text": [
      "\n",
      "Saya suka makan sushi dengan saus BBQ\n",
      "\n",
      "\n",
      "Saya suka makan sushi dengan saus keju\n",
      "\n"
     ]
    }
   ],
   "source": [
    "r = \"\"\"\n",
    "Saya suka makan sushi dengan saus BBQ\n",
    "\"\"\"\n",
    "\n",
    "s = '''\n",
    "Saya suka makan sushi dengan saus keju\n",
    "'''\n",
    "\n",
    "print(r)\n",
    "print(s)"
   ]
  },
  {
   "cell_type": "code",
   "execution_count": 80,
   "metadata": {},
   "outputs": [
    {
     "name": "stdout",
     "output_type": "stream",
     "text": [
      "2345\n",
      ",2,3\n",
      "llo,\n"
     ]
    }
   ],
   "source": [
    "#Slicing\n",
    "a = \"123456789\"\n",
    "print(a[1:5])\n",
    "\n",
    "b = \"1,2,3,4,5,6,7,8,9\"\n",
    "print(b[1:5])\n",
    "\n",
    "c = \"Hello, Pythonnnnn\"\n",
    "print(c[2:6])"
   ]
  },
  {
   "cell_type": "code",
   "execution_count": 81,
   "metadata": {},
   "outputs": [
    {
     "name": "stdout",
     "output_type": "stream",
     "text": [
      "12345\n"
     ]
    }
   ],
   "source": [
    "# Slice from the start\n",
    "a = \"123456789\"\n",
    "print(a[:5])"
   ]
  },
  {
   "cell_type": "code",
   "execution_count": 82,
   "metadata": {},
   "outputs": [
    {
     "name": "stdout",
     "output_type": "stream",
     "text": [
      "6789\n"
     ]
    }
   ],
   "source": [
    "# Slice to the end\n",
    "a = \"123456789\"\n",
    "print(a[5:])"
   ]
  },
  {
   "cell_type": "code",
   "execution_count": 83,
   "metadata": {},
   "outputs": [
    {
     "name": "stdout",
     "output_type": "stream",
     "text": [
      "567\n"
     ]
    }
   ],
   "source": [
    "# Negative Indexing\n",
    "a = \"123456789\"\n",
    "print(a[-5:-2])"
   ]
  },
  {
   "cell_type": "code",
   "execution_count": 85,
   "metadata": {},
   "outputs": [
    {
     "name": "stdout",
     "output_type": "stream",
     "text": [
      "HELLO WORLD\n",
      "hello world\n",
      "Hello World\n"
     ]
    }
   ],
   "source": [
    "#Modify Strings\n",
    "\n",
    "#Upper\n",
    "a = \"Hello World\"\n",
    "print(a.upper())\n",
    "\n",
    "#Lower\n",
    "print(a.lower())\n",
    "\n",
    "#Remove Whitespace\n",
    "b = \"   Hello World   \"\n",
    "print(a.strip())"
   ]
  },
  {
   "cell_type": "code",
   "execution_count": 86,
   "metadata": {},
   "outputs": [
    {
     "name": "stdout",
     "output_type": "stream",
     "text": [
      "Jello World\n"
     ]
    }
   ],
   "source": [
    "#Replace\n",
    "print(a.replace(\"H\",\"J\"))\n"
   ]
  },
  {
   "cell_type": "code",
   "execution_count": 88,
   "metadata": {},
   "outputs": [
    {
     "name": "stdout",
     "output_type": "stream",
     "text": [
      "['Hello World']\n",
      "['Hello ', 'orld']\n"
     ]
    }
   ],
   "source": [
    "#Splot String\n",
    "print(a.split(\",\"))\n",
    "print(a.split(\"W\"))"
   ]
  },
  {
   "cell_type": "code",
   "execution_count": 89,
   "metadata": {},
   "outputs": [
    {
     "name": "stdout",
     "output_type": "stream",
     "text": [
      "My name is Adam, I am 21\n"
     ]
    }
   ],
   "source": [
    "#Format String atau f-string\n",
    "age = 21\n",
    "txt = f\"My name is Adam, I am {age}\"\n",
    "print(txt)"
   ]
  },
  {
   "cell_type": "code",
   "execution_count": 90,
   "metadata": {},
   "outputs": [
    {
     "name": "stdout",
     "output_type": "stream",
     "text": [
      "The price of Nasi Padang is 12 thousand rupiahs\n"
     ]
    }
   ],
   "source": [
    "price = 12\n",
    "txt = f\"The price of Nasi Padang is {price} thousand rupiahs\"\n",
    "print(txt)"
   ]
  },
  {
   "cell_type": "code",
   "execution_count": 92,
   "metadata": {},
   "outputs": [
    {
     "name": "stdout",
     "output_type": "stream",
     "text": [
      "The price of Nasi Padang is 12.000 rupiahs\n"
     ]
    }
   ],
   "source": [
    "price = 12\n",
    "txt = f\"The price of Nasi Padang is {price:.3f} rupiahs\"\n",
    "print(txt)"
   ]
  },
  {
   "cell_type": "code",
   "execution_count": 95,
   "metadata": {},
   "outputs": [
    {
     "name": "stdout",
     "output_type": "stream",
     "text": [
      "Aku dipanggil \"Adam\" oleh teman-teman\n"
     ]
    }
   ],
   "source": [
    "#Escape Character menggunakan \"\\\"\n",
    "\n",
    "txt = \"Aku dipanggil \\\"Adam\\\" oleh teman-teman\"\n",
    "print(txt)"
   ]
  }
 ],
 "metadata": {
  "kernelspec": {
   "display_name": "Python 3",
   "language": "python",
   "name": "python3"
  },
  "language_info": {
   "codemirror_mode": {
    "name": "ipython",
    "version": 3
   },
   "file_extension": ".py",
   "mimetype": "text/x-python",
   "name": "python",
   "nbconvert_exporter": "python",
   "pygments_lexer": "ipython3",
   "version": "3.12.4"
  }
 },
 "nbformat": 4,
 "nbformat_minor": 2
}
