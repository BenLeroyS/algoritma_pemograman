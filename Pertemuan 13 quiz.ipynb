{
 "cells": [
  {
   "cell_type": "code",
   "execution_count": 1,
   "metadata": {},
   "outputs": [],
   "source": [
    "import pandas as pd"
   ]
  },
  {
   "cell_type": "markdown",
   "metadata": {},
   "source": [
    "# Data Kesehatan"
   ]
  },
  {
   "cell_type": "markdown",
   "metadata": {},
   "source": [
    "## Data excel"
   ]
  },
  {
   "cell_type": "code",
   "execution_count": 3,
   "metadata": {},
   "outputs": [
    {
     "name": "stdout",
     "output_type": "stream",
     "text": [
      "            Kode                                             Elemen Data 2019  \\\n",
      "0           1.02                                          KESEHATAN       NaN   \n",
      "1       1.02.018                       Data Kinerja Dinas Kesehatan       NaN   \n",
      "2   1.02.018.001  Persentase Rumah Tangga yang Berperilaku Hidup...      56.1   \n",
      "3   1.02.018.002  Persentase Cakupan Pertolongan Persalinan di F...     99.98   \n",
      "4   1.02.018.003  Persentase Cakupan Kunjungan Neonatus Pertama ...     99.92   \n",
      "5   1.02.018.004  Persentase Cakupan Penjaringan Kesehatan Siswa...      96.1   \n",
      "6   1.02.018.005  Persentase Puskesmas Mampu Memberikan Layanan ...       100   \n",
      "7   1.02.018.006  Persentase Kecamatan yang Menyelenggarakan Kec...       100   \n",
      "8   1.02.018.007  Persentase Rumah Sakit Bekerja Sama dengan BPJ...      96.3   \n",
      "9   1.02.018.008  Persentase Fasilitas Kesehatan Tingkat Pertama...       100   \n",
      "10  1.02.018.009  Persentase Rumah Sakit yang Bekerja Sama denga...       100   \n",
      "11  1.02.018.010                           Prevelensi Ibu Hamil KEK      9.98   \n",
      "12  1.02.018.011  Persentase Cakupan Persalinan di Fasilitas Pel...     99.98   \n",
      "13  1.02.018.012  Persentase Pelayanan Pemeriksaan Kehamilan Len...     92.64   \n",
      "14  1.02.018.013  Persentase Cakupan Kunjungan Neonatus Pertama ...     99.92   \n",
      "15  1.02.018.014        Persentase Cakupan Pelayanan Kesehatan Bayi     90.77   \n",
      "16  1.02.018.015      Persentase Cakupan Pelayanan Kesehatan Balita     81.01   \n",
      "17  1.02.018.016  Persentase Puskesmas Mampu Memberikan Layanan ...       100   \n",
      "18  1.02.018.017  Persentase Jumlah Desa/Kelurahan yang Memiliki...       100   \n",
      "19  1.02.018.018  Persentase WUS yang Melakukan Deteksi Dini Ca ...       4.6   \n",
      "20  1.02.018.019        Persentase Keberhasilan Pengobatan HIV/AIDS       NaN   \n",
      "21  1.02.018.020              Persentase Keberhasilan Pengobatan TB     92.35   \n",
      "22  1.02.018.021                                 Persentase CFR DBD     '0,14   \n",
      "23  1.02.018.022  Persentase Penanggulangan Kejadian Luar Biasa ...       100   \n",
      "24  1.02.018.023          Persentase Universal Coverage Imunization       100   \n",
      "25  1.02.018.025                Persentase Balita Kurang Gizi (KEP)     11.35   \n",
      "26  1.02.018.029  Persentase Mutu Pelayanan Kefarmasian, Perbeka...       NaN   \n",
      "27  1.02.018.031  Persentase Desa dan Kelurahan Siaga Aktif deng...     55.81   \n",
      "28  1.02.018.035            Annual Parasite Incidence (API) Malaria     '0,00   \n",
      "29  1.02.018.036  Persentase Kecamatan Menyelenggarakan Kecamata...       100   \n",
      "30  1.02.018.040                               Total Fertility Rate       NaN   \n",
      "\n",
      "   Data 2020 Data 2021 Data 2022 Data 2023   Satuan Sifat Data Status  \\\n",
      "0        NaN       NaN       NaN       NaN      NaN        NaN    NaN   \n",
      "1        NaN       NaN       NaN       NaN      NaN        NaN    NaN   \n",
      "2         58      58.5      59.8     61.43        %    Tahunan      -   \n",
      "3      99.95     99.99     99.95     99.89        %    Tahunan      -   \n",
      "4      99.88     99.56     97.14     99.93        %    Tahunan      -   \n",
      "5      96.22     41.65     98.72      98.9        %    Tahunan      -   \n",
      "6        100       100       100       100        %    Tahunan      -   \n",
      "7        100       100       100       100        %    Tahunan      -   \n",
      "8       96.3      85.7     85.71     92.86        %    Tahunan      -   \n",
      "9        100       100       100       100        %    Tahunan      -   \n",
      "10       100      85.7     85.71     92.86        %    Tahunan      -   \n",
      "11     10.68     10.74      11.8     11.62        %    Tahunan      -   \n",
      "12     99.95     99.99     99.95     99.89        %    Tahunan      -   \n",
      "13     89.69     99.06     83.65     98.62        %    Tahunan      -   \n",
      "14     99.88     99.56     97.14     99.84        %    Tahunan      -   \n",
      "15     74.76     71.77      85.2     95.14        %    Tahunan      -   \n",
      "16     74.53     71.54     83.41    100.33        %    Tahunan      -   \n",
      "17       100       100       100       100        %    Tahunan      -   \n",
      "18       100       100       100       100        %    Tahunan      -   \n",
      "19      2.96      1.17         3     17.24        %    Tahunan      -   \n",
      "20       NaN       NaN       NaN        54        %    Tahunan      -   \n",
      "21     94.17     92.04      91.9      82.3        %    Tahunan      -   \n",
      "22     '0,25     '0,35     '0,90     '0,68        %    Tahunan      -   \n",
      "23       100       100       100       100        %    Tahunan      -   \n",
      "24       100       100       100       100        %    Tahunan      -   \n",
      "25       NaN       NaN       NaN       NaN        %    Tahunan      -   \n",
      "26       NaN       100       NaN       NaN        %    Tahunan      -   \n",
      "27     48.84     54.65     60.46     61.63        %    Tahunan      -   \n",
      "28     '0,00     '0,00     '0,01     '0,01  per mil    Tahunan      -   \n",
      "29       100       100       100       100        %    Tahunan      -   \n",
      "30       NaN       NaN       NaN       NaN    Angka    Tahunan      -   \n",
      "\n",
      "   Penanggung Jawab  \n",
      "0               NaN  \n",
      "1               NaN  \n",
      "2   Dinas Kesehatan  \n",
      "3   Dinas Kesehatan  \n",
      "4   Dinas Kesehatan  \n",
      "5               NaN  \n",
      "6   Dinas Kesehatan  \n",
      "7   Dinas Kesehatan  \n",
      "8   Dinas Kesehatan  \n",
      "9   Dinas Kesehatan  \n",
      "10  Dinas Kesehatan  \n",
      "11  Dinas Kesehatan  \n",
      "12  Dinas Kesehatan  \n",
      "13  Dinas Kesehatan  \n",
      "14  Dinas Kesehatan  \n",
      "15  Dinas Kesehatan  \n",
      "16  Dinas Kesehatan  \n",
      "17  Dinas Kesehatan  \n",
      "18  Dinas Kesehatan  \n",
      "19  Dinas Kesehatan  \n",
      "20  Dinas Kesehatan  \n",
      "21  Dinas Kesehatan  \n",
      "22  Dinas Kesehatan  \n",
      "23  Dinas Kesehatan  \n",
      "24  Dinas Kesehatan  \n",
      "25  Dinas Kesehatan  \n",
      "26  Dinas Kesehatan  \n",
      "27  Dinas Kesehatan  \n",
      "28  Dinas Kesehatan  \n",
      "29  Dinas Kesehatan  \n",
      "30  Dinas Kesehatan  \n"
     ]
    }
   ],
   "source": [
    "df = pd.read_excel(r'c:\\File Python\\Quiz 13 Algoritma\\Dinas Kesehatan.xlsx')\n",
    "print (df)"
   ]
  },
  {
   "cell_type": "markdown",
   "metadata": {},
   "source": [
    "## Data CSV"
   ]
  },
  {
   "cell_type": "code",
   "execution_count": 5,
   "metadata": {},
   "outputs": [
    {
     "name": "stdout",
     "output_type": "stream",
     "text": [
      "        Bulan     IGD  Keluarga Berencana fisioterapi   Jumlah\n",
      "0     Januari   8 396                   8       2 221   10 625\n",
      "1    Februari   7 146                   6       2 755    9 907\n",
      "2       Maret   7 810                  11       3 334   11 155\n",
      "3       April   8 337                  13       3 394   11 744\n",
      "4         Mei   7 678                   9       4 199   11 886\n",
      "5        Juni   9 271                  11       3 398   12 680\n",
      "6        Juli   7 775                   8       3 112   10 895\n",
      "7     Agustus     810                   1       3 015    3 826\n",
      "8   September   7 965                   8       3 088   11 061\n",
      "9     Oktober   8 579                   6       3 494   12 079\n",
      "10   November   8 566                   2       2 940   11 508\n",
      "11   Desember   8 923                   4       2 721   11 648\n",
      "12     Jumlah  91 256                  87      37 671  129 014\n"
     ]
    }
   ],
   "source": [
    "df = pd.read_csv(r'c:\\File Python\\Quiz 13 Algoritma\\Kunjungan Rumah Sakit.csv')\n",
    "print(df)"
   ]
  },
  {
   "cell_type": "markdown",
   "metadata": {},
   "source": [
    "# Data Keuangan"
   ]
  },
  {
   "cell_type": "markdown",
   "metadata": {},
   "source": [
    "## Data Excel"
   ]
  },
  {
   "cell_type": "code",
   "execution_count": 7,
   "metadata": {},
   "outputs": [
    {
     "name": "stdout",
     "output_type": "stream",
     "text": [
      "    GDP, current prices (Billions of U.S. dollars)       1980       1981  \\\n",
      "0                                              NaN        NaN        NaN   \n",
      "1                                      Afghanistan    no data    no data   \n",
      "2                                          Albania      1.946      2.229   \n",
      "3                                          Algeria     45.957     48.156   \n",
      "4                                          Andorra    no data    no data   \n",
      "..                                             ...        ...        ...   \n",
      "226                       Other advanced economies    776.681    792.517   \n",
      "227                             Sub-Saharan Africa    320.823    339.147   \n",
      "228                                          World  11235.818  11529.924   \n",
      "229                                            NaN        NaN        NaN   \n",
      "230                                     ©IMF, 2024        NaN        NaN   \n",
      "\n",
      "         1982       1983       1984       1985       1986       1987  \\\n",
      "0         NaN        NaN        NaN        NaN        NaN        NaN   \n",
      "1     no data    no data    no data    no data    no data    no data   \n",
      "2       2.296      2.319       2.29      2.339      2.587      2.566   \n",
      "3      48.599     51.582     55.906     66.346     66.783     68.698   \n",
      "4     no data    no data    no data    no data    no data    no data   \n",
      "..        ...        ...        ...        ...        ...        ...   \n",
      "226   787.705    786.566    824.785    822.452   1002.695   1234.647   \n",
      "227   342.054    315.198    251.048    229.997    261.179    283.912   \n",
      "228  11313.68  11615.359  12030.448  12558.693  14798.046  17036.133   \n",
      "229       NaN        NaN        NaN        NaN        NaN        NaN   \n",
      "230       NaN        NaN        NaN        NaN        NaN        NaN   \n",
      "\n",
      "         1988  ...       2020       2021        2022        2023        2024  \\\n",
      "0         NaN  ...        NaN        NaN         NaN         NaN         NaN   \n",
      "1     no data  ...     20.136     14.278      14.501      17.329     no data   \n",
      "2        2.53  ...     15.192     17.984      19.083      22.822       26.13   \n",
      "3       56.07  ...    164.774    185.884     225.631     240.064     260.134   \n",
      "4     no data  ...      2.885      3.325       3.376       3.728        3.93   \n",
      "..        ...  ...        ...        ...         ...         ...         ...   \n",
      "226  1456.866  ...   7515.723   8742.162    8789.585    8897.231    9183.356   \n",
      "227   306.429  ...   1687.915   1900.803    2034.706    1944.358    1840.998   \n",
      "228  19156.24  ...  85519.462  97402.909  101409.366  105685.121  110064.915   \n",
      "229       NaN  ...        NaN        NaN         NaN         NaN         NaN   \n",
      "230       NaN  ...        NaN        NaN         NaN         NaN         NaN   \n",
      "\n",
      "           2025        2026        2027       2028        2029  \n",
      "0           NaN         NaN         NaN        NaN         NaN  \n",
      "1       no data     no data     no data    no data     no data  \n",
      "2        27.993      29.915      31.853     33.923      36.137  \n",
      "3        264.27     270.141     275.081    279.617     284.352  \n",
      "4         4.071       4.226       4.357      4.494       4.639  \n",
      "..          ...         ...         ...        ...         ...  \n",
      "226    9599.703   10023.639   10438.729  10868.694    11295.67  \n",
      "227    1895.789    2039.463    2176.224   2328.696     2481.12  \n",
      "228  115494.312  121325.453  127172.936  133351.77  139651.617  \n",
      "229         NaN         NaN         NaN        NaN         NaN  \n",
      "230         NaN         NaN         NaN        NaN         NaN  \n",
      "\n",
      "[231 rows x 51 columns]\n"
     ]
    }
   ],
   "source": [
    "df = pd.read_excel(r'c:\\File Python\\Quiz 13 Algoritma\\Ekonomi Wilayah Dunia IMF.xlsx')\n",
    "print(df)"
   ]
  },
  {
   "cell_type": "markdown",
   "metadata": {},
   "source": [
    "## Data CSV"
   ]
  },
  {
   "cell_type": "code",
   "execution_count": 9,
   "metadata": {},
   "outputs": [
    {
     "name": "stdout",
     "output_type": "stream",
     "text": [
      "    province     cities_reg  poorpeople_percentage  reg_gdp  life_exp  \\\n",
      "0       Aceh       Simeulue                  18.98    2.275    65.240   \n",
      "1       Aceh   Aceh Singkil                  20.36    2.425    67.355   \n",
      "2       Aceh   Aceh Selatan                  13.18    5.531    64.360   \n",
      "3       Aceh  Aceh Tenggara                  13.41    5.063    68.155   \n",
      "4       Aceh     Aceh Timur                  14.45   10.616    68.705   \n",
      "..       ...            ...                    ...      ...       ...   \n",
      "509    Papua         Puncak                  36.26    1.438    66.060   \n",
      "510    Papua        Dogiyai                  28.81    1.356    65.845   \n",
      "511    Papua     Intan Jaya                  41.66    1.274    65.580   \n",
      "512    Papua         Deiyai                  40.59    1.439    65.355   \n",
      "513    Papua  Kota Jayapura                  11.39   32.207    70.455   \n",
      "\n",
      "     avg_schooltime  exp_percap  \n",
      "0              9.48        7148  \n",
      "1              8.68        8776  \n",
      "2              8.88        8180  \n",
      "3              9.67        8030  \n",
      "4              8.21        8577  \n",
      "..              ...         ...  \n",
      "509            2.16        5412  \n",
      "510            4.94        5415  \n",
      "511            3.09        5328  \n",
      "512            3.25        4673  \n",
      "513           11.57       14937  \n",
      "\n",
      "[514 rows x 7 columns]\n"
     ]
    }
   ],
   "source": [
    "df = pd.read_csv(r'c:\\File Python\\Quiz 13 Algoritma\\Sosial-Ekonomi Indonesia 2021.csv')\n",
    "print(df)"
   ]
  },
  {
   "cell_type": "markdown",
   "metadata": {},
   "source": [
    "# Data Lain"
   ]
  },
  {
   "cell_type": "markdown",
   "metadata": {},
   "source": [
    "## Data Excel"
   ]
  },
  {
   "cell_type": "code",
   "execution_count": 10,
   "metadata": {},
   "outputs": [
    {
     "name": "stdout",
     "output_type": "stream",
     "text": [
      "        Nama Provinsi Nama Kabupaten/Kota  Jumlah Kecamatan  \\\n",
      "0                 NaN                 NaN               NaN   \n",
      "1                 NaN                 NaN               NaN   \n",
      "2                ACEH        ACEH SELATAN              18.0   \n",
      "3                ACEH       ACEH TENGGARA              16.0   \n",
      "4                ACEH          ACEH TIMUR              24.0   \n",
      "..                ...                 ...               ...   \n",
      "512  PAPUA BARAT DAYA          RAJA AMPAT              24.0   \n",
      "513  PAPUA BARAT DAYA            TAMBRAUW              29.0   \n",
      "514  PAPUA BARAT DAYA             MAYBRAT              24.0   \n",
      "515  PAPUA BARAT DAYA         KOTA SORONG              10.0   \n",
      "516      JUMLAH TOTAL                 NaN            7277.0   \n",
      "\n",
      "     Jumlah Kelurahan/Desa  Jumlah TPS Total Penetapan Pemilih DPT Unnamed: 6  \\\n",
      "0                      NaN         NaN                   Laki-Laki  Perempuan   \n",
      "1                      NaN         NaN                         NaN        NaN   \n",
      "2                    260.0       697.0                       83690      86078   \n",
      "3                    385.0       726.0                       73996      76987   \n",
      "4                    513.0      1252.0                      147632     149264   \n",
      "..                     ...         ...                         ...        ...   \n",
      "512                  121.0       209.0                       22533      21394   \n",
      "513                  216.0       225.0                       11147      10645   \n",
      "514                  260.0       272.0                       19736      19842   \n",
      "515                   41.0       730.0                      106544      98963   \n",
      "516                83731.0    820161.0                   101467243  101589505   \n",
      "\n",
      "    Unnamed: 7  \n",
      "0       Jumlah  \n",
      "1          NaN  \n",
      "2       169768  \n",
      "3       150983  \n",
      "4       296896  \n",
      "..         ...  \n",
      "512      43927  \n",
      "513      21792  \n",
      "514      39578  \n",
      "515     205507  \n",
      "516  203056748  \n",
      "\n",
      "[517 rows x 8 columns]\n"
     ]
    }
   ],
   "source": [
    "df = pd.read_excel(r'c:\\File Python\\Quiz 13 Algoritma\\Rekapitulasi Daftar Pemilih Tetap (DPT) Dalam Negeri.xlsx')\n",
    "print(df)"
   ]
  },
  {
   "cell_type": "markdown",
   "metadata": {},
   "source": [
    "## Data CSV"
   ]
  },
  {
   "cell_type": "code",
   "execution_count": 16,
   "metadata": {},
   "outputs": [
    {
     "name": "stdout",
     "output_type": "stream",
     "text": [
      "     year                   category                             variable  \\\n",
      "0    2007  Fisheries and aquaculture  Cont. to ME Wage and salary earners   \n",
      "1    2008  Fisheries and aquaculture  Cont. to ME Wage and salary earners   \n",
      "2    2009  Fisheries and aquaculture  Cont. to ME Wage and salary earners   \n",
      "3    2010  Fisheries and aquaculture  Cont. to ME Wage and salary earners   \n",
      "4    2011  Fisheries and aquaculture  Cont. to ME Wage and salary earners   \n",
      "..    ...                        ...                                  ...   \n",
      "757  2018       Total marine economy              Wage and salary earners   \n",
      "758  2019       Total marine economy              Wage and salary earners   \n",
      "759  2020       Total marine economy              Wage and salary earners   \n",
      "760  2021       Total marine economy              Wage and salary earners   \n",
      "761  2022       Total marine economy              Wage and salary earners   \n",
      "\n",
      "          units magnitude source  data_value flag  Unnamed: 8  Unnamed: 9  \\\n",
      "0    Proportion    Actual   LEED        42.1    F         NaN         NaN   \n",
      "1    Proportion    Actual   LEED        39.3    R         NaN         NaN   \n",
      "2    Proportion    Actual   LEED        39.8    R         NaN         NaN   \n",
      "3    Proportion    Actual   LEED        40.8    F         NaN         NaN   \n",
      "4    Proportion    Actual   LEED        39.9    F         NaN         NaN   \n",
      "..          ...       ...    ...         ...  ...         ...         ...   \n",
      "757      Number    Actual   LEED     38880.0    F         NaN         NaN   \n",
      "758      Number    Actual   LEED     39867.0    F         NaN         NaN   \n",
      "759      Number    Actual   LEED     40593.0    F         NaN         NaN   \n",
      "760      Number    Actual   LEED     39531.0    P         NaN         NaN   \n",
      "761      Number    Actual   LEED     38646.0    P         NaN         NaN   \n",
      "\n",
      "     ...  Unnamed: 14  Unnamed: 15  Unnamed: 16  Unnamed: 17  Unnamed: 18  \\\n",
      "0    ...          NaN          NaN          NaN          NaN          NaN   \n",
      "1    ...          NaN          NaN          NaN          NaN          NaN   \n",
      "2    ...          NaN          NaN          NaN          NaN          NaN   \n",
      "3    ...          NaN          NaN          NaN          NaN          NaN   \n",
      "4    ...          NaN          NaN          NaN          NaN          NaN   \n",
      "..   ...          ...          ...          ...          ...          ...   \n",
      "757  ...          NaN          NaN          NaN          NaN          NaN   \n",
      "758  ...          NaN          NaN          NaN          NaN          NaN   \n",
      "759  ...          NaN          NaN          NaN          NaN          NaN   \n",
      "760  ...          NaN          NaN          NaN          NaN          NaN   \n",
      "761  ...          NaN          NaN          NaN          NaN          NaN   \n",
      "\n",
      "     Unnamed: 19  Unnamed: 20  Unnamed: 21  Unnamed: 22  Unnamed: 23  \n",
      "0            NaN          NaN          NaN          NaN          NaN  \n",
      "1            NaN          NaN          NaN          NaN          NaN  \n",
      "2            NaN          NaN          NaN          NaN          NaN  \n",
      "3            NaN          NaN          NaN          NaN          NaN  \n",
      "4            NaN          NaN          NaN          NaN          NaN  \n",
      "..           ...          ...          ...          ...          ...  \n",
      "757          NaN          NaN          NaN          NaN          NaN  \n",
      "758          NaN          NaN          NaN          NaN          NaN  \n",
      "759          NaN          NaN          NaN          NaN          NaN  \n",
      "760          NaN          NaN          NaN          NaN          NaN  \n",
      "761          NaN          NaN          NaN          NaN          NaN  \n",
      "\n",
      "[762 rows x 24 columns]\n"
     ]
    }
   ],
   "source": [
    "df = pd.read_csv(r'c:\\File Python\\Quiz 13 Algoritma\\Marine Economy Account 2007-2022.csv')\n",
    "print(df)"
   ]
  }
 ],
 "metadata": {
  "kernelspec": {
   "display_name": "Python 3",
   "language": "python",
   "name": "python3"
  },
  "language_info": {
   "codemirror_mode": {
    "name": "ipython",
    "version": 3
   },
   "file_extension": ".py",
   "mimetype": "text/x-python",
   "name": "python",
   "nbconvert_exporter": "python",
   "pygments_lexer": "ipython3",
   "version": "3.12.4"
  }
 },
 "nbformat": 4,
 "nbformat_minor": 2
}
